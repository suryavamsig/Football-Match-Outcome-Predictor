{
 "cells": [
  {
   "cell_type": "markdown",
   "metadata": {},
   "source": [
    "# Football Match Outcome Predictor\n",
    "## Problem Statement\n",
    "My goal is to build a model to predict the outcome of a football match, given data for the past 9\n",
    "years. All the football matches from 2009 to 2017 are covered in the dataset. \n",
    "\n",
    "Based on the dataset provided, my goal is to come up with an optimal solution to predict whether a Home Team would win or lose or draw a game, represented by column name `FTR` for the year of `2017-2018`.\n",
    "\n",
    "I have to come up with multiple approaches and choose the one that performs the best. \n",
    "\n",
    "I am provided with the training dataset: `train.csv` and testing dataset: `test.csv` to start the assignment. I have observed that the train and test datasets are not randomly sampled which is necessary to maintain the chronological order which ensures that all events of our train dataset takes place before an actual event of test dataset."
   ]
  },
  {
   "attachments": {},
   "cell_type": "markdown",
   "metadata": {},
   "source": [
    "## Dataset\n",
    "### About The Data\n",
    "The data is collected from http://www.football-data.co.uk/ and consists of different leagues.\n",
    "\n",
    "### Data Dictionary\n",
    "All data is provided in `csv` format. In order to understand/interpret the data, detailed description about each column/feature/variable is given alongside the abbreviation/acronym in tabular format below:\n",
    "\n",
    "| Name | Description |\n",
    "| :--: | :---: |\n",
    "| HomeTeam | Home Team |\n",
    "| AwayTeam | Away Team |\n",
    "| FTR | Full-Time Result (H=Home Win, D=Draw, A=Away Win) |\n",
    "| HTHG | Half Time Home Team Goals |\n",
    "| HTAG | Half Time Away Team Goals\n",
    "| HS | Home Team Shots|\n",
    "| AS | Away Team Shots|\n",
    "| HST | Home Team Shots on Target|\n",
    "| AST | Away Team Shots on Target|\n",
    "| AC | Away Team Corners|\n",
    "| HF | Home Team Fouls Committed|\n",
    "| AF | Away Team Fouls Committed|\n",
    "| HC | Home Team Corners|\n",
    "| HY | Home Team Yellow Cards|\n",
    "| AY | Away Team Yellow Cards|\n",
    "| HR | Home Team Red Cards|\n",
    "| AR | Away Team Red Cards|\n",
    "| Date | On which day the match was played|\n",
    "| league | Under which league the match was played|\n",
    "\n",
    "### Load The Data "
   ]
  },
  {
   "cell_type": "code",
   "execution_count": 127,
   "metadata": {},
   "outputs": [
    {
     "name": "stdout",
     "output_type": "stream",
     "text": [
      "     AC    AF   AR    AS  AST   AY       AwayTeam      Date FTR    HC    HF  \\\n",
      "0   3.0  12.0  0.0  14.0  4.0  0.0      Stuttgart  07/08/09   H   6.0  12.0   \n",
      "1   1.0  10.0  0.0   7.0  0.0  1.0        FC Koln  08/08/09   H  16.0   8.0   \n",
      "2   3.0  20.0  0.0  15.0  3.0  2.0       Hannover  08/08/09   H   5.0  16.0   \n",
      "3  10.0  28.0  0.0   9.0  3.0  2.0  Bayern Munich  08/08/09   D   3.0  10.0   \n",
      "4   5.0  28.0  0.0  13.0  7.0  2.0     Leverkusen  08/08/09   D   3.0  22.0   \n",
      "\n",
      "    HR    HS   HST  HTAG  HTHG   HY    HomeTeam      league  \n",
      "0  0.0  13.0   7.0   0.0   0.0  0.0   Wolfsburg  bundesliga  \n",
      "1  0.0  24.0  11.0   0.0   0.0  0.0    Dortmund  bundesliga  \n",
      "2  0.0  10.0   4.0   0.0   0.0  3.0      Hertha  bundesliga  \n",
      "3  0.0   9.0   1.0   1.0   1.0  0.0  Hoffenheim  bundesliga  \n",
      "4  0.0   8.0   4.0   2.0   1.0  1.0       Mainz  bundesliga  \n"
     ]
    }
   ],
   "source": [
    "# import all the necessary libraries\n",
    "import pandas as pd\n",
    "\n",
    "# read data from train CSV into a dataframe\n",
    "train_data = pd.read_csv('train.csv')\n",
    "\n",
    "# preview the head of train_data\n",
    "print(train_data.head())"
   ]
  },
  {
   "cell_type": "code",
   "execution_count": 16,
   "metadata": {},
   "outputs": [
    {
     "name": "stdout",
     "output_type": "stream",
     "text": [
      "{dtype('float64'): Index(['AC', 'AF', 'AR', 'AS', 'AST', 'AY', 'HC', 'HF', 'HR', 'HS', 'HST',\n",
      "       'HTAG', 'HTHG', 'HY'],\n",
      "      dtype='object'), dtype('O'): Index(['AwayTeam', 'Date', 'FTR', 'HomeTeam', 'league'], dtype='object')}\n"
     ]
    }
   ],
   "source": [
    "# obtain list of columns of certain data types as groups from train_data \n",
    "print(train_data.columns.to_series().groupby(train_data.dtypes).groups)"
   ]
  },
  {
   "cell_type": "markdown",
   "metadata": {},
   "source": [
    "- The `head()` function returned first 5 rows by default from the `train_data` dataframe which belong to `bundesliga` league. \n",
    "- `14` variables have `float` values: `AC`, `AF`, `AR`, `AS`, `AST`, `AY`, `HC`, `HF`, `HR`, `HS`, `HST`, `HTAG`, `HTHG`, `HY`.\n",
    "- `5` variables have `dtype('O')` which stands for object that represents a string such as: `AwayTeam`, `Date`, `FTR`, `HomeTeam`, `league`.\n",
    "- `Date` variable format changed from `DD/MM/YYYY` in the dataset to `DD/MM/YY` in the dataframe."
   ]
  },
  {
   "cell_type": "code",
   "execution_count": 19,
   "metadata": {},
   "outputs": [
    {
     "name": "stdout",
     "output_type": "stream",
     "text": [
      "         AC    AF   AR    AS  AST   AY  AwayTeam      Date FTR   HC    HF  \\\n",
      "12784   7.0   1.0  0.0  17.0  4.0  1.0   Udinese  28/05/17   H  6.0  15.0   \n",
      "12785   7.0  16.0  0.0  17.0  4.0  4.0    Empoli  28/05/17   H  0.0  18.0   \n",
      "12786   2.0  14.0  0.0  13.0  4.0  0.0     Genoa  28/05/17   H  6.0   8.0   \n",
      "12787  10.0   8.0  0.0  22.0  7.0  0.0    Napoli  28/05/17   A  5.0   9.0   \n",
      "12788  10.0   6.0  0.0  21.0  7.0  0.0  Sassuolo  28/05/17   H  6.0  16.0   \n",
      "\n",
      "        HR    HS  HST  HTAG  HTHG   HY   HomeTeam   league  \n",
      "12784  0.0  17.0  6.0   0.0   3.0  2.0      Inter  serie-a  \n",
      "12785  0.0  10.0  5.0   0.0   0.0  3.0    Palermo  serie-a  \n",
      "12786  0.0  24.0  7.0   1.0   1.0  2.0       Roma  serie-a  \n",
      "12787  0.0  12.0  2.0   2.0   0.0  1.0  Sampdoria  serie-a  \n",
      "12788  0.0  16.0  9.0   2.0   3.0  2.0     Torino  serie-a  \n"
     ]
    }
   ],
   "source": [
    "# preview tail of train_data\n",
    "print(train_data.tail())"
   ]
  },
  {
   "cell_type": "markdown",
   "metadata": {},
   "source": [
    "- The `tail()` function returned last 5 rows by default from the `train_data` dataframe which belong to `serie-a` league. \n",
    "- The total number of records are `12789` since the number of rows are indexed from `0`. \n",
    "- The total number of variables are `19`."
   ]
  },
  {
   "cell_type": "code",
   "execution_count": 27,
   "metadata": {},
   "outputs": [
    {
     "name": "stdout",
     "output_type": "stream",
     "text": [
      "['bundesliga' 'la-liga' 'ligue-1' 'premier-league' 'serie-a']\n"
     ]
    }
   ],
   "source": [
    "# unique values in league column in train_data\n",
    "print(train_data['league'].unique())"
   ]
  },
  {
   "cell_type": "markdown",
   "metadata": {},
   "source": [
    "- `5` different league data exists in `train_data` dataframe. "
   ]
  },
  {
   "cell_type": "code",
   "execution_count": 28,
   "metadata": {},
   "outputs": [
    {
     "name": "stdout",
     "output_type": "stream",
     "text": [
      "['H' 'D' 'A' nan]\n"
     ]
    }
   ],
   "source": [
    "# unique values in FTR column in train_data\n",
    "print(train_data['FTR'].unique())"
   ]
  },
  {
   "cell_type": "markdown",
   "metadata": {},
   "source": [
    "- `4` different values exist in dependent variable column `FTR`. The valid values are `H`, `D` and `A` which denote a multi-class classification problem.\n",
    "- But, there is a prevalent issue of missing values which needs to be addressed."
   ]
  },
  {
   "cell_type": "code",
   "execution_count": 34,
   "metadata": {},
   "outputs": [
    {
     "name": "stdout",
     "output_type": "stream",
     "text": [
      "True\n"
     ]
    }
   ],
   "source": [
    "# any missing values in train_data\n",
    "print(train_data.isnull().values.any())"
   ]
  },
  {
   "cell_type": "markdown",
   "metadata": {},
   "source": [
    "- The above is a check to see whether we have any missing values at all, and it is confirmed to be `True`."
   ]
  },
  {
   "cell_type": "code",
   "execution_count": 33,
   "metadata": {},
   "outputs": [
    {
     "name": "stdout",
     "output_type": "stream",
     "text": [
      "AC           9\n",
      "AF          11\n",
      "AR           9\n",
      "AS           9\n",
      "AST          9\n",
      "AY           9\n",
      "AwayTeam     7\n",
      "Date         7\n",
      "FTR          7\n",
      "HC           9\n",
      "HF          11\n",
      "HR           9\n",
      "HS           9\n",
      "HST          9\n",
      "HTAG        10\n",
      "HTHG        10\n",
      "HY          10\n",
      "HomeTeam     7\n",
      "league       0\n",
      "dtype: int64\n"
     ]
    }
   ],
   "source": [
    "# total missing values for each feature in train_data\n",
    "print(train_data.isnull().sum())"
   ]
  },
  {
   "cell_type": "markdown",
   "metadata": {},
   "source": [
    "- The total number of missing values per feature is obtained above.\n",
    "- For any feature, the sum does not exceed `11` missing values across `5` different leagues.\n",
    "- Hence, the step to drop these few missing observations would be valid."
   ]
  },
  {
   "cell_type": "code",
   "execution_count": 36,
   "metadata": {},
   "outputs": [
    {
     "name": "stdout",
     "output_type": "stream",
     "text": [
      "False\n",
      "AC          0\n",
      "AF          0\n",
      "AR          0\n",
      "AS          0\n",
      "AST         0\n",
      "AY          0\n",
      "AwayTeam    0\n",
      "Date        0\n",
      "FTR         0\n",
      "HC          0\n",
      "HF          0\n",
      "HR          0\n",
      "HS          0\n",
      "HST         0\n",
      "HTAG        0\n",
      "HTHG        0\n",
      "HY          0\n",
      "HomeTeam    0\n",
      "league      0\n",
      "dtype: int64\n"
     ]
    }
   ],
   "source": [
    "# drop missing observations from train_data\n",
    "train_data_clean = train_data.dropna()\n",
    "\n",
    "# any missing values in cleaned train_data_clean train_data_clean\n",
    "print(train_data_clean.isnull().values.any())\n",
    "\n",
    "# total missing values for each feature in cleaned train_data_clean train_data_clean\n",
    "print(train_data_clean.isnull().sum())"
   ]
  },
  {
   "cell_type": "markdown",
   "metadata": {},
   "source": [
    "- Obtained a cleaned dataframe `train_data_clean` which is free of missing values.\n",
    "- Checked for any missing values in entire dataframe which returned `False`.\n",
    "- Checked the count of number of missing values in cleaned dataframe which returned `0` for each feature."
   ]
  },
  {
   "cell_type": "code",
   "execution_count": 40,
   "metadata": {},
   "outputs": [],
   "source": [
    "# subset train_data_clean using different leagues\n",
    "train_data_bundesliga = train_data_clean[train_data_clean.league == 'bundesliga']\n",
    "train_data_laliga = train_data_clean[train_data_clean.league == 'la-liga']\n",
    "train_data_ligue1 = train_data_clean[train_data_clean.league == 'ligue-1']\n",
    "train_data_premierleague = train_data_clean[train_data_clean.league == 'premier-league']\n",
    "train_data_seriea = train_data_clean[train_data_clean.league == 'serie-a']"
   ]
  },
  {
   "cell_type": "code",
   "execution_count": 47,
   "metadata": {},
   "outputs": [
    {
     "name": "stdout",
     "output_type": "stream",
     "text": [
      "(2142, 19)\n",
      "(2660, 19)\n",
      "(2657, 19)\n",
      "(2660, 19)\n",
      "(2657, 19)\n"
     ]
    }
   ],
   "source": [
    "# dimensions of each subset of train_data_clean\n",
    "print(train_data_bundesliga.shape)\n",
    "print(train_data_laliga.shape)\n",
    "print(train_data_ligue1.shape)\n",
    "print(train_data_premierleague.shape)\n",
    "print(train_data_seriea.shape)"
   ]
  },
  {
   "cell_type": "markdown",
   "metadata": {},
   "source": [
    "| league | rows | columns |\n",
    "| :---:  | :---:| :---:   |\n",
    "| bundesliga | 2142 | 19 |\n",
    "| la-liga | 2660 | 19 |\n",
    "| ligue-1 | 2657 | 19 |\n",
    "| premier-league | 2660 | 19 |\n",
    "| serie-a | 2657 | 19 |"
   ]
  },
  {
   "cell_type": "code",
   "execution_count": 67,
   "metadata": {},
   "outputs": [
    {
     "name": "stdout",
     "output_type": "stream",
     "text": [
      "['Augsburg', 'Bayern Munich', 'Bochum', 'Darmstadt', 'Dortmund', 'Ein Frankfurt', 'FC Koln', 'Fortuna Dusseldorf', 'Freiburg', 'Greuther Furth', 'Hamburg', 'Hannover', 'Hertha', 'Hoffenheim', 'Ingolstadt', 'Kaiserslautern', 'Leverkusen', \"M'gladbach\", 'Mainz', 'Nurnberg', 'Paderborn', 'RB Leipzig', 'Schalke 04', 'St Pauli', 'Stuttgart', 'Werder Bremen', 'Wolfsburg']\n",
      "['Augsburg', 'Bayern Munich', 'Bochum', 'Darmstadt', 'Dortmund', 'Ein Frankfurt', 'FC Koln', 'Fortuna Dusseldorf', 'Freiburg', 'Greuther Furth', 'Hamburg', 'Hannover', 'Hertha', 'Hoffenheim', 'Ingolstadt', 'Kaiserslautern', 'Leverkusen', \"M'gladbach\", 'Mainz', 'Nurnberg', 'Paderborn', 'RB Leipzig', 'Schalke 04', 'St Pauli', 'Stuttgart', 'Werder Bremen', 'Wolfsburg']\n"
     ]
    }
   ],
   "source": [
    "# obtain unique values in HomeTeam and AwayTeam for train_data_bundesliga\n",
    "print(sorted(train_data_bundesliga['AwayTeam'].unique()))\n",
    "print(sorted(train_data_bundesliga['HomeTeam'].unique()))"
   ]
  },
  {
   "cell_type": "code",
   "execution_count": 68,
   "metadata": {},
   "outputs": [
    {
     "name": "stdout",
     "output_type": "stream",
     "text": [
      "['Alaves', 'Almeria', 'Ath Bilbao', 'Ath Madrid', 'Barcelona', 'Betis', 'Celta', 'Cordoba', 'Eibar', 'Elche', 'Espanol', 'Getafe', 'Granada', 'Hercules', 'La Coruna', 'Las Palmas', 'Leganes', 'Levante', 'Malaga', 'Mallorca', 'Osasuna', 'Real Madrid', 'Santander', 'Sevilla', 'Sociedad', 'Sp Gijon', 'Tenerife', 'Valencia', 'Valladolid', 'Vallecano', 'Villarreal', 'Xerez', 'Zaragoza']\n",
      "['Alaves', 'Almeria', 'Ath Bilbao', 'Ath Madrid', 'Barcelona', 'Betis', 'Celta', 'Cordoba', 'Eibar', 'Elche', 'Espanol', 'Getafe', 'Granada', 'Hercules', 'La Coruna', 'Las Palmas', 'Leganes', 'Levante', 'Malaga', 'Mallorca', 'Osasuna', 'Real Madrid', 'Santander', 'Sevilla', 'Sociedad', 'Sp Gijon', 'Tenerife', 'Valencia', 'Valladolid', 'Vallecano', 'Villarreal', 'Xerez', 'Zaragoza']\n"
     ]
    }
   ],
   "source": [
    "# obtain unique values in HomeTeam and AwayTeam for train_data_laliga\n",
    "print(sorted(train_data_laliga['AwayTeam'].unique()))\n",
    "print(sorted(train_data_laliga['HomeTeam'].unique()))"
   ]
  },
  {
   "cell_type": "code",
   "execution_count": 69,
   "metadata": {},
   "outputs": [
    {
     "name": "stdout",
     "output_type": "stream",
     "text": [
      "['Ajaccio', 'Ajaccio GFCO', 'Angers', 'Arles', 'Auxerre', 'Bastia', 'Bordeaux', 'Boulogne', 'Brest', 'Caen', 'Dijon', 'Evian Thonon Gaillard', 'Grenoble', 'Guingamp', 'Le Mans', 'Lens', 'Lille', 'Lorient', 'Lyon', 'Marseille', 'Metz', 'Monaco', 'Montpellier', 'Nancy', 'Nantes', 'Nice', 'Paris SG', 'Reims', 'Rennes', 'Sochaux', 'St Etienne', 'Toulouse', 'Troyes', 'Valenciennes']\n",
      "['Ajaccio', 'Ajaccio GFCO', 'Angers', 'Arles', 'Auxerre', 'Bastia', 'Bordeaux', 'Boulogne', 'Brest', 'Caen', 'Dijon', 'Evian Thonon Gaillard', 'Grenoble', 'Guingamp', 'Le Mans', 'Lens', 'Lille', 'Lorient', 'Lyon', 'Marseille', 'Metz', 'Monaco', 'Montpellier', 'Nancy', 'Nantes', 'Nice', 'Paris SG', 'Reims', 'Rennes', 'Sochaux', 'St Etienne', 'Toulouse', 'Troyes', 'Valenciennes']\n"
     ]
    }
   ],
   "source": [
    "# obtain unique values in HomeTeam and AwayTeam for train_data_ligue1\n",
    "print(sorted(train_data_ligue1['AwayTeam'].unique()))\n",
    "print(sorted(train_data_ligue1['HomeTeam'].unique()))"
   ]
  },
  {
   "cell_type": "code",
   "execution_count": 70,
   "metadata": {},
   "outputs": [
    {
     "name": "stdout",
     "output_type": "stream",
     "text": [
      "['Arsenal', 'Aston Villa', 'Birmingham', 'Blackburn', 'Blackpool', 'Bolton', 'Bournemouth', 'Burnley', 'Chelsea', 'Crystal Palace', 'Everton', 'Fulham', 'Hull', 'Leicester', 'Liverpool', 'Man City', 'Man United', 'Middlesbrough', 'Newcastle', 'Norwich', 'Portsmouth', 'QPR', 'Reading', 'Southampton', 'Stoke', 'Sunderland', 'Swansea', 'Tottenham', 'Watford', 'West Brom', 'West Ham', 'Wigan', 'Wolves']\n",
      "['Arsenal', 'Aston Villa', 'Birmingham', 'Blackburn', 'Blackpool', 'Bolton', 'Bournemouth', 'Burnley', 'Chelsea', 'Crystal Palace', 'Everton', 'Fulham', 'Hull', 'Leicester', 'Liverpool', 'Man City', 'Man United', 'Middlesbrough', 'Newcastle', 'Norwich', 'Portsmouth', 'QPR', 'Reading', 'Southampton', 'Stoke', 'Sunderland', 'Swansea', 'Tottenham', 'Watford', 'West Brom', 'West Ham', 'Wigan', 'Wolves']\n"
     ]
    }
   ],
   "source": [
    "# obtain unique values in HomeTeam and AwayTeam for train_data_premierleague\n",
    "print(sorted(train_data_premierleague['AwayTeam'].unique()))\n",
    "print(sorted(train_data_premierleague['HomeTeam'].unique()))"
   ]
  },
  {
   "cell_type": "code",
   "execution_count": 72,
   "metadata": {},
   "outputs": [
    {
     "name": "stdout",
     "output_type": "stream",
     "text": [
      "['Atalanta', 'Bari', 'Bologna', 'Brescia', 'Cagliari', 'Carpi', 'Catania', 'Cesena', 'Chievo', 'Crotone', 'Empoli', 'Fiorentina', 'Frosinone', 'Genoa', 'Inter', 'Juventus', 'Lazio', 'Lecce', 'Livorno', 'Milan', 'Napoli', 'Novara', 'Palermo', 'Parma', 'Pescara', 'Roma', 'Sampdoria', 'Sassuolo', 'Siena', 'Torino', 'Udinese', 'Verona']\n",
      "['Atalanta', 'Bari', 'Bologna', 'Brescia', 'Cagliari', 'Carpi', 'Catania', 'Cesena', 'Chievo', 'Crotone', 'Empoli', 'Fiorentina', 'Frosinone', 'Genoa', 'Inter', 'Juventus', 'Lazio', 'Lecce', 'Livorno', 'Milan', 'Napoli', 'Novara', 'Palermo', 'Parma', 'Pescara', 'Roma', 'Sampdoria', 'Sassuolo', 'Siena', 'Torino', 'Udinese', 'Verona']\n"
     ]
    }
   ],
   "source": [
    "# obtain unique values in HomeTeam and AwayTeam for train_data_seriea\n",
    "print(sorted(train_data_seriea['AwayTeam'].unique()))\n",
    "print(sorted(train_data_seriea['HomeTeam'].unique()))"
   ]
  },
  {
   "cell_type": "markdown",
   "metadata": {},
   "source": [
    "- `AwayTeam` and `HomeTeam` unique values exactly match for each league.\n",
    "- Through the above analysis, the names of teams belonging to each league is obtained."
   ]
  },
  {
   "cell_type": "code",
   "execution_count": 79,
   "metadata": {},
   "outputs": [
    {
     "name": "stdout",
     "output_type": "stream",
     "text": [
      "       Date       HomeTeam       AwayTeam  HTHG  HTAG  HS  AS  HST  AST  HF  \\\n",
      "0  18/08/17  Bayern Munich     Leverkusen     2     0  13  19    8    4  13   \n",
      "1  19/08/17        Hamburg       Augsburg     1     0  11  13    5    1  18   \n",
      "2  19/08/17         Hertha      Stuttgart     0     0  10   9    3    2  18   \n",
      "3  19/08/17     Hoffenheim  Werder Bremen     0     0  14  11    3    2  17   \n",
      "4  19/08/17          Mainz       Hannover     0     0  14   6    6    2  18   \n",
      "\n",
      "   AF  HC  AC  HY  AY  HR  AR      league  \n",
      "0  17   4   5   1   2   0   0  bundesliga  \n",
      "1  16   3   7   4   3   0   0  bundesliga  \n",
      "2  12   5   1   2   1   0   0  bundesliga  \n",
      "3  15   6   4   1   3   0   0  bundesliga  \n",
      "4  14  13   1   3   5   0   0  bundesliga  \n"
     ]
    }
   ],
   "source": [
    "# read the test CSV into a dataframe\n",
    "test_data = pd.read_csv('test.csv')\n",
    "\n",
    "# preview the head of test_data\n",
    "print(test_data.head())"
   ]
  },
  {
   "cell_type": "code",
   "execution_count": 77,
   "metadata": {},
   "outputs": [
    {
     "name": "stdout",
     "output_type": "stream",
     "text": [
      "{dtype('int64'): Index(['HTHG', 'HTAG', 'HS', 'AS', 'HST', 'AST', 'HF', 'AF', 'HC', 'AC', 'HY',\n",
      "       'AY', 'HR', 'AR'],\n",
      "      dtype='object'), dtype('O'): Index(['Date', 'HomeTeam', 'AwayTeam', 'league'], dtype='object')}\n"
     ]
    }
   ],
   "source": [
    "# obtain list of columns of certain data types as groups from test_data\n",
    "print(test_data.columns.to_series().groupby(test_data.dtypes).groups)"
   ]
  },
  {
   "cell_type": "code",
   "execution_count": 78,
   "metadata": {},
   "outputs": [
    {
     "name": "stdout",
     "output_type": "stream",
     "text": [
      "          Date    HomeTeam       AwayTeam  HTHG  HTAG  HS  AS  HST  AST  HF  \\\n",
      "1525  12/05/18  Hoffenheim       Dortmund     1     0  12  10    8    4   4   \n",
      "1526  12/05/18  Leverkusen       Hannover     2     0  27  11    8    4   9   \n",
      "1527  12/05/18       Mainz  Werder Bremen     1     1  13  14    1    3  10   \n",
      "1528  12/05/18  Schalke 04  Ein Frankfurt     1     0  11   6    5    2  10   \n",
      "1529  12/05/18   Wolfsburg        FC Koln     1     1  16   6    8    1  12   \n",
      "\n",
      "      AF  HC  AC  HY  AY  HR  AR   league  \n",
      "1525   7   2   3   0   0   0   0  serie-a  \n",
      "1526  11   5   2   2   2   0   0  serie-a  \n",
      "1527   6   3   7   0   1   0   0  serie-a  \n",
      "1528  12   4   3   0   2   0   0  serie-a  \n",
      "1529  17   5  10   2   3   0   0  serie-a  \n"
     ]
    }
   ],
   "source": [
    "# preview tail of test_data\n",
    "print(test_data.tail())"
   ]
  },
  {
   "cell_type": "markdown",
   "metadata": {},
   "source": [
    "- The `head()` function returned first 5 rows by default from the `test_data` dataframe which belong to `bundesliga` league.\n",
    "- `14` variables have int values: `AC`, `AF`, `AR`, `AS`, `AST`, `AY`, `HC`, `HF`, `HR`, `HS`, `HST`, `HTAG`, `HTHG`, `HY`.\n",
    "- `4` variables have dtype('O') which stands for object that represents a string such as: `Date`, `HomeTeam`, `AwayTeam`, `league`.\n",
    "- Date variable format changed from DD/MM/YYYY in the dataset to DD/MM/YY in the dataframe.\n",
    "- The `tail()` function returned the last 5 rows by default from the `test_data` dataframe which belong to `serie-a` league.\n",
    "- The total number of rows/observations in `test_data` dataframe are `1530` since they are indexed from 0.\n",
    "- The total number of columns/features in `test_data` dataframe are `18`."
   ]
  },
  {
   "cell_type": "code",
   "execution_count": 81,
   "metadata": {},
   "outputs": [
    {
     "name": "stdout",
     "output_type": "stream",
     "text": [
      "False\n"
     ]
    }
   ],
   "source": [
    "# any missing values in test_data\n",
    "print(test_data.isnull().values.any())"
   ]
  },
  {
   "cell_type": "markdown",
   "metadata": {},
   "source": [
    "- The above is a check to see whether we have any missing values at all, and it is confirmed to be `False` i.e. no missing values in `test_data` dataframe."
   ]
  },
  {
   "cell_type": "code",
   "execution_count": 83,
   "metadata": {},
   "outputs": [
    {
     "name": "stdout",
     "output_type": "stream",
     "text": [
      "['bundesliga' 'la-liga' 'ligue-1' 'premier-league' 'serie-a']\n"
     ]
    }
   ],
   "source": [
    "# unique values in league column in test_data\n",
    "print(test_data['league'].unique())"
   ]
  },
  {
   "cell_type": "code",
   "execution_count": 84,
   "metadata": {},
   "outputs": [],
   "source": [
    "# subset test_data using different leagues\n",
    "test_data_bundesliga = test_data[test_data.league == 'bundesliga']\n",
    "test_data_laliga = test_data[test_data.league == 'la-liga']\n",
    "test_data_ligue1 = test_data[test_data.league == 'ligue-1']\n",
    "test_data_premierleague = test_data[test_data.league == 'premier-league']\n",
    "test_data_seriea = test_data[test_data.league == 'serie-a']"
   ]
  },
  {
   "cell_type": "code",
   "execution_count": 86,
   "metadata": {},
   "outputs": [
    {
     "name": "stdout",
     "output_type": "stream",
     "text": [
      "(306, 18)\n",
      "(306, 18)\n",
      "(306, 18)\n",
      "(306, 18)\n",
      "(306, 18)\n"
     ]
    }
   ],
   "source": [
    "# dimensions of each subset of test_data\n",
    "print(test_data_bundesliga.shape)\n",
    "print(test_data_laliga.shape)\n",
    "print(test_data_ligue1.shape)\n",
    "print(test_data_premierleague.shape)\n",
    "print(test_data_seriea.shape)"
   ]
  },
  {
   "cell_type": "markdown",
   "metadata": {},
   "source": [
    "| league | rows | columns |\n",
    "| :---:  | :---:| :---:   |\n",
    "| bundesliga | 306 | 18 |\n",
    "| la-liga | 306 | 18 |\n",
    "| ligue-1 | 306 | 18 |\n",
    "| premier-league | 306 | 18 |\n",
    "| serie-a | 306 | 18 |"
   ]
  },
  {
   "cell_type": "code",
   "execution_count": 91,
   "metadata": {},
   "outputs": [
    {
     "name": "stdout",
     "output_type": "stream",
     "text": [
      "['Augsburg', 'Bayern Munich', 'Dortmund', 'Ein Frankfurt', 'FC Koln', 'Freiburg', 'Hamburg', 'Hannover', 'Hertha', 'Hoffenheim', 'Leverkusen', \"M'gladbach\", 'Mainz', 'RB Leipzig', 'Schalke 04', 'Stuttgart', 'Werder Bremen', 'Wolfsburg']\n",
      "['Augsburg', 'Bayern Munich', 'Dortmund', 'Ein Frankfurt', 'FC Koln', 'Freiburg', 'Hamburg', 'Hannover', 'Hertha', 'Hoffenheim', 'Leverkusen', \"M'gladbach\", 'Mainz', 'RB Leipzig', 'Schalke 04', 'Stuttgart', 'Werder Bremen', 'Wolfsburg']\n"
     ]
    }
   ],
   "source": [
    "# obtain unique values in HomeTeam and AwayTeam for test_data_bundesliga\n",
    "print(sorted(test_data_bundesliga['AwayTeam'].unique()))\n",
    "print(sorted(test_data_bundesliga['HomeTeam'].unique()))"
   ]
  },
  {
   "cell_type": "code",
   "execution_count": 95,
   "metadata": {},
   "outputs": [
    {
     "name": "stdout",
     "output_type": "stream",
     "text": [
      "['Augsburg', 'Bayern Munich', 'Dortmund', 'Ein Frankfurt', 'FC Koln', 'Freiburg', 'Hamburg', 'Hannover', 'Hertha', 'Hoffenheim', 'Leverkusen', \"M'gladbach\", 'Mainz', 'RB Leipzig', 'Schalke 04', 'Stuttgart', 'Werder Bremen', 'Wolfsburg']\n",
      "['Augsburg', 'Bayern Munich', 'Dortmund', 'Ein Frankfurt', 'FC Koln', 'Freiburg', 'Hamburg', 'Hannover', 'Hertha', 'Hoffenheim', 'Leverkusen', \"M'gladbach\", 'Mainz', 'RB Leipzig', 'Schalke 04', 'Stuttgart', 'Werder Bremen', 'Wolfsburg']\n"
     ]
    }
   ],
   "source": [
    "# obtain unique values in HomeTeam and AwayTeam for test_data_laliga\n",
    "print(sorted(test_data_laliga['AwayTeam'].unique()))\n",
    "print(sorted(test_data_laliga['HomeTeam'].unique()))"
   ]
  },
  {
   "cell_type": "code",
   "execution_count": 96,
   "metadata": {},
   "outputs": [
    {
     "name": "stdout",
     "output_type": "stream",
     "text": [
      "['Augsburg', 'Bayern Munich', 'Dortmund', 'Ein Frankfurt', 'FC Koln', 'Freiburg', 'Hamburg', 'Hannover', 'Hertha', 'Hoffenheim', 'Leverkusen', \"M'gladbach\", 'Mainz', 'RB Leipzig', 'Schalke 04', 'Stuttgart', 'Werder Bremen', 'Wolfsburg']\n",
      "['Augsburg', 'Bayern Munich', 'Dortmund', 'Ein Frankfurt', 'FC Koln', 'Freiburg', 'Hamburg', 'Hannover', 'Hertha', 'Hoffenheim', 'Leverkusen', \"M'gladbach\", 'Mainz', 'RB Leipzig', 'Schalke 04', 'Stuttgart', 'Werder Bremen', 'Wolfsburg']\n"
     ]
    }
   ],
   "source": [
    "# obtain unique values in HomeTeam and AwayTeam for test_data_ligue1\n",
    "print(sorted(test_data_ligue1['AwayTeam'].unique()))\n",
    "print(sorted(test_data_ligue1['HomeTeam'].unique()))"
   ]
  },
  {
   "cell_type": "code",
   "execution_count": 97,
   "metadata": {},
   "outputs": [
    {
     "name": "stdout",
     "output_type": "stream",
     "text": [
      "['Augsburg', 'Bayern Munich', 'Dortmund', 'Ein Frankfurt', 'FC Koln', 'Freiburg', 'Hamburg', 'Hannover', 'Hertha', 'Hoffenheim', 'Leverkusen', \"M'gladbach\", 'Mainz', 'RB Leipzig', 'Schalke 04', 'Stuttgart', 'Werder Bremen', 'Wolfsburg']\n",
      "['Augsburg', 'Bayern Munich', 'Dortmund', 'Ein Frankfurt', 'FC Koln', 'Freiburg', 'Hamburg', 'Hannover', 'Hertha', 'Hoffenheim', 'Leverkusen', \"M'gladbach\", 'Mainz', 'RB Leipzig', 'Schalke 04', 'Stuttgart', 'Werder Bremen', 'Wolfsburg']\n"
     ]
    }
   ],
   "source": [
    "# obtain unique values in HomeTeam and AwayTeam for test_data_premierleague\n",
    "print(sorted(test_data_premierleague['AwayTeam'].unique()))\n",
    "print(sorted(test_data_premierleague['HomeTeam'].unique()))"
   ]
  },
  {
   "cell_type": "code",
   "execution_count": 99,
   "metadata": {},
   "outputs": [
    {
     "name": "stdout",
     "output_type": "stream",
     "text": [
      "['Augsburg', 'Bayern Munich', 'Dortmund', 'Ein Frankfurt', 'FC Koln', 'Freiburg', 'Hamburg', 'Hannover', 'Hertha', 'Hoffenheim', 'Leverkusen', \"M'gladbach\", 'Mainz', 'RB Leipzig', 'Schalke 04', 'Stuttgart', 'Werder Bremen', 'Wolfsburg']\n",
      "['Augsburg', 'Bayern Munich', 'Dortmund', 'Ein Frankfurt', 'FC Koln', 'Freiburg', 'Hamburg', 'Hannover', 'Hertha', 'Hoffenheim', 'Leverkusen', \"M'gladbach\", 'Mainz', 'RB Leipzig', 'Schalke 04', 'Stuttgart', 'Werder Bremen', 'Wolfsburg']\n"
     ]
    }
   ],
   "source": [
    "# obtain unique values in HomeTeam and AwayTeam for test_data_seriea\n",
    "print(sorted(test_data_seriea['AwayTeam'].unique()))\n",
    "print(sorted(test_data_seriea['HomeTeam'].unique()))"
   ]
  },
  {
   "cell_type": "markdown",
   "metadata": {},
   "source": [
    "- `AwayTeam` and `HomeTeam` unique values exactly match for each league.\n",
    "- But, the major problem is that the `AwayTeam` and `HomeTeam` values are the correctly labeled for `bundesliga` and incorrect for all other leagues i.e. the same names from `bundesliga` are replicated across `la-liga`, `ligue-1`, `premier-league` and `serie-a`. \n",
    "- Hence, I would proceed with the analysis for `bundesliga` and notify the problem with the test dataset. Therefore, I would consider only `train_data_bundesliga` and `test_data_bundesliga`."
   ]
  },
  {
   "cell_type": "markdown",
   "metadata": {},
   "source": [
    "## Statistics\n",
    "### FTR"
   ]
  },
  {
   "cell_type": "code",
   "execution_count": 111,
   "metadata": {},
   "outputs": [
    {
     "data": {
      "text/plain": [
       "array([['A', 644],\n",
       "       ['D', 533],\n",
       "       ['H', 965]], dtype=object)"
      ]
     },
     "execution_count": 111,
     "metadata": {},
     "output_type": "execute_result"
    }
   ],
   "source": [
    "# import all the necessary libraries \n",
    "import numpy as np\n",
    "import matplotlib.pyplot as plt\n",
    "\n",
    "# obtain counts for unique class value in FTR column in train_data_bundesliga\n",
    "np.array(np.unique(train_data_bundesliga['FTR'], return_counts=True)).T"
   ]
  },
  {
   "cell_type": "code",
   "execution_count": 146,
   "metadata": {},
   "outputs": [
    {
     "data": {
      "image/png": "[encoded data removed]",
      "text/plain": [
       "<Figure size 432x288 with 1 Axes>"
      ]
     },
     "metadata": {
      "needs_background": "light"
     },
     "output_type": "display_data"
    }
   ],
   "source": [
    "objects = ('H', 'D', 'A')\n",
    "y_pos = np.arange(len(objects))\n",
    "performance = [965, 533, 644]\n",
    " \n",
    "plt.bar(y_pos, performance, align='center', alpha=0.5)\n",
    "plt.xticks(y_pos, objects)\n",
    "plt.ylabel('Matches')\n",
    "plt.title('Full-Time Result H=Home Win, D=Draw, A=Away Win')\n",
    " \n",
    "plt.show()"
   ]
  },
  {
   "cell_type": "markdown",
   "metadata": {},
   "source": [
    "- Home Win are the highest which is in-line with home advantage factors such as cheering crowd boosts player confidence, familiarity with ground on which they have practiced/played the most, influence in referre decision and less travel/fatigue."
   ]
  },
  {
   "cell_type": "markdown",
   "metadata": {},
   "source": [
    "### HTAG"
   ]
  },
  {
   "cell_type": "code",
   "execution_count": 114,
   "metadata": {},
   "outputs": [
    {
     "name": "stdout",
     "output_type": "stream",
     "text": [
      "0.5364145658263305\n",
      "0.0\n",
      "0.25    0.0\n",
      "0.50    0.0\n",
      "0.75    1.0\n",
      "Name: HTAG, dtype: float64\n"
     ]
    }
   ],
   "source": [
    "# mean of HTAG column in train_data_bundesliga\n",
    "print(np.mean(train_data_bundesliga['HTAG']))\n",
    "\n",
    "# median of HTAG column in train_data_bundesliga\n",
    "print(np.median(train_data_bundesliga['HTAG']))\n",
    "\n",
    "# 1st and 3rd quartiles of HTAG column in train_data_bundesliga\n",
    "print(train_data_bundesliga['HTAG'].quantile([0.25,0.5,0.75]))"
   ]
  },
  {
   "cell_type": "markdown",
   "metadata": {},
   "source": [
    "- The variable `HTAG` has an approximate mean of 0.5 goals, median of 0 goals and 75th percentile value at 1 goal."
   ]
  },
  {
   "cell_type": "code",
   "execution_count": 129,
   "metadata": {},
   "outputs": [],
   "source": [
    "# convert 14 float type variables in train_data_bundesliga to int type  \n",
    "train_data_bundesliga = train_data_bundesliga.astype({'AC': int,'AF': int, 'AR': int, 'AS': int, 'AST': int, 'AY': int, 'HC': int, 'HF': int, 'HR': int, 'HS': int, 'HST': int, 'HTAG': int, 'HTHG': int, 'HY': int})"
   ]
  },
  {
   "cell_type": "code",
   "execution_count": 130,
   "metadata": {},
   "outputs": [
    {
     "name": "stdout",
     "output_type": "stream",
     "text": [
      "[[   0 1241]\n",
      " [   1  693]\n",
      " [   2  171]\n",
      " [   3   35]\n",
      " [   4    1]\n",
      " [   5    1]]\n"
     ]
    }
   ],
   "source": [
    "# obtain counts for goals in HTAG column in train_data_bundesliga\n",
    "print(np.array(np.unique(train_data_bundesliga['HTAG'], return_counts=True)).T)"
   ]
  },
  {
   "cell_type": "code",
   "execution_count": 136,
   "metadata": {},
   "outputs": [
    {
     "data": {
      "image/png": "[encoded data removed]",
      "text/plain": [
       "<Figure size 432x288 with 1 Axes>"
      ]
     },
     "metadata": {
      "needs_background": "light"
     },
     "output_type": "display_data"
    }
   ],
   "source": [
    "x = (0, 1, 2, 3, 4, 5)\n",
    "y = (1241,693,171,35,1,1)\n",
    "\n",
    "plt.bar(x,y,align='center') \n",
    "plt.xlabel('Half Time Away Team Goals')\n",
    "plt.ylabel('Matches')\n",
    "\n",
    "plt.show()"
   ]
  },
  {
   "cell_type": "markdown",
   "metadata": {},
   "source": [
    "- Half Time Goal Statistics for Away Team\n",
    "- In `1241` matches, an away team could not score a goal. \n",
    "- In `693` matches, an away team managed to score 1 goal.\n",
    "- In `171` matches, an away team managed to score 2 goals.\n",
    "- Atleast 3 goals have been scored in only 37 matches."
   ]
  },
  {
   "cell_type": "markdown",
   "metadata": {},
   "source": [
    "### HTAG and HTHG\n"
   ]
  },
  {
   "cell_type": "code",
   "execution_count": 143,
   "metadata": {},
   "outputs": [
    {
     "data": {
      "text/plain": [
       "array([[ 1.        , -0.07208679],\n",
       "       [-0.07208679,  1.        ]])"
      ]
     },
     "execution_count": 143,
     "metadata": {},
     "output_type": "execute_result"
    }
   ],
   "source": [
    "x = train_data_bundesliga['HTHG']\n",
    "y = train_data_bundesliga['HTAG']\n",
    "np.corrcoef(x, y)"
   ]
  },
  {
   "cell_type": "code",
   "execution_count": 145,
   "metadata": {},
   "outputs": [
    {
     "data": {
      "image/png": "[encoded data removed]",
      "text/plain": [
       "<Figure size 432x288 with 1 Axes>"
      ]
     },
     "metadata": {
      "needs_background": "light"
     },
     "output_type": "display_data"
    }
   ],
   "source": [
    "plt.scatter(x, y)\n",
    "plt.xlabel('Half Time Home Team Goals')\n",
    "plt.ylabel('Half Time Away Team Goals')\n",
    "plt.show()"
   ]
  },
  {
   "cell_type": "markdown",
   "metadata": {},
   "source": [
    "- The correlation is between `HTHG` (Half Time Home Team Goals) and `HTAG` (Half Time Away Team Goals). The result of the correlation is negative because the relation between the two variables is decremental. Correlation: `-0.07208679`"
   ]
  },
  {
   "cell_type": "code",
   "execution_count": 148,
   "metadata": {},
   "outputs": [
    {
     "name": "stdout",
     "output_type": "stream",
     "text": [
      "0.4505135387488329\n",
      "0.2488328664799253\n",
      "0.3006535947712418\n"
     ]
    }
   ],
   "source": [
    "PH = 965/(965+533+644)\n",
    "PD = 533/(965+533+644)\n",
    "PA = 644/(965+533+644)\n",
    "print(PH)\n",
    "print(PD)\n",
    "print(PA)"
   ]
  },
  {
   "cell_type": "markdown",
   "metadata": {},
   "source": [
    "In `bundesliga` league, `24.88%` have been a tie and `30.06%` have been a defeat for the home team."
   ]
  },
  {
   "cell_type": "code",
   "execution_count": 151,
   "metadata": {},
   "outputs": [
    {
     "name": "stdout",
     "output_type": "stream",
     "text": [
      "[[  0 595]\n",
      " [  1 749]\n",
      " [  2 530]\n",
      " [  3 209]\n",
      " [  4  48]\n",
      " [  5   9]\n",
      " [  6   2]]\n"
     ]
    }
   ],
   "source": [
    "HomeGoals = train_data_bundesliga['HTHG']\n",
    "AwayGoals = train_data_bundesliga['HTAG']\n",
    "TotalGoals = HomeGoals + AwayGoals \n",
    "print(np.array(np.unique(TotalGoals, return_counts=True)).T)"
   ]
  },
  {
   "cell_type": "code",
   "execution_count": 163,
   "metadata": {},
   "outputs": [
    {
     "data": {
      "text/html": [
       "<div>\n",
       "<style scoped>\n",
       "    .dataframe tbody tr th:only-of-type {\n",
       "        vertical-align: middle;\n",
       "    }\n",
       "\n",
       "    .dataframe tbody tr th {\n",
       "        vertical-align: top;\n",
       "    }\n",
       "\n",
       "    .dataframe thead th {\n",
       "        text-align: right;\n",
       "    }\n",
       "</style>\n",
       "<table border=\"1\" class=\"dataframe\">\n",
       "  <thead>\n",
       "    <tr style=\"text-align: right;\">\n",
       "      <th>TG</th>\n",
       "      <th>0</th>\n",
       "      <th>1</th>\n",
       "      <th>2</th>\n",
       "      <th>3</th>\n",
       "      <th>4</th>\n",
       "      <th>5</th>\n",
       "      <th>6</th>\n",
       "    </tr>\n",
       "    <tr>\n",
       "      <th>FTR</th>\n",
       "      <th></th>\n",
       "      <th></th>\n",
       "      <th></th>\n",
       "      <th></th>\n",
       "      <th></th>\n",
       "      <th></th>\n",
       "      <th></th>\n",
       "    </tr>\n",
       "  </thead>\n",
       "  <tbody>\n",
       "    <tr>\n",
       "      <th>A</th>\n",
       "      <td>154</td>\n",
       "      <td>241</td>\n",
       "      <td>165</td>\n",
       "      <td>68</td>\n",
       "      <td>12</td>\n",
       "      <td>3</td>\n",
       "      <td>1</td>\n",
       "    </tr>\n",
       "    <tr>\n",
       "      <th>D</th>\n",
       "      <td>228</td>\n",
       "      <td>155</td>\n",
       "      <td>115</td>\n",
       "      <td>28</td>\n",
       "      <td>6</td>\n",
       "      <td>1</td>\n",
       "      <td>0</td>\n",
       "    </tr>\n",
       "    <tr>\n",
       "      <th>H</th>\n",
       "      <td>213</td>\n",
       "      <td>353</td>\n",
       "      <td>250</td>\n",
       "      <td>113</td>\n",
       "      <td>30</td>\n",
       "      <td>5</td>\n",
       "      <td>1</td>\n",
       "    </tr>\n",
       "  </tbody>\n",
       "</table>\n",
       "</div>"
      ],
      "text/plain": [
       "TG     0    1    2    3   4  5  6\n",
       "FTR                              \n",
       "A    154  241  165   68  12  3  1\n",
       "D    228  155  115   28   6  1  0\n",
       "H    213  353  250  113  30  5  1"
      ]
     },
     "execution_count": 163,
     "metadata": {},
     "output_type": "execute_result"
    }
   ],
   "source": [
    "a = train_data_bundesliga['FTR']\n",
    "b = TotalGoals\n",
    "\n",
    "FTRTotGoalTab = pd.crosstab(a, b, rownames = ['FTR'], colnames = ['TG'])\n",
    "FTRTotGoalTab"
   ]
  },
  {
   "cell_type": "code",
   "execution_count": 188,
   "metadata": {},
   "outputs": [
    {
     "name": "stdout",
     "output_type": "stream",
     "text": [
      "0.38664596273291924\n",
      "0.28142589118198874\n",
      "0.41347150259067356\n"
     ]
    }
   ],
   "source": [
    "A2Goals = sum(FTRTotGoalTab.loc[\"A\",2:])\n",
    "D2Goals = sum(FTRTotGoalTab.loc[\"D\",2:])\n",
    "H2Goals = sum(FTRTotGoalTab.loc[\"H\",2:])\n",
    "\n",
    "AGoals = sum(FTRTotGoalTab.loc[\"A\"])\n",
    "DGoals = sum(FTRTotGoalTab.loc[\"D\"])\n",
    "HGoals = sum(FTRTotGoalTab.loc[\"H\"])\n",
    "\n",
    "PA2Goals = A2Goals/AGoals\n",
    "PD2Goals = D2Goals/DGoals\n",
    "PH2Goals = H2Goals/HGoals\n",
    "\n",
    "print(PA2Goals)\n",
    "print(PD2Goals)\n",
    "print(PH2Goals)"
   ]
  },
  {
   "cell_type": "markdown",
   "metadata": {},
   "source": [
    "- `38.66%` Away Team victories, atleast 2 goals have been scored\n",
    "- `28.14%` Draws, atleast 2 goals have been scored\n",
    "- `41.34%` Home Team victories, atleast 2 goals have been scored"
   ]
  },
  {
   "cell_type": "code",
   "execution_count": null,
   "metadata": {},
   "outputs": [],
   "source": []
  }
 ],
 "metadata": {
  "kernelspec": {
   "display_name": "Python 3",
   "language": "python",
   "name": "python3"
  },
  "language_info": {
   "codemirror_mode": {
    "name": "ipython",
    "version": 3
   },
   "file_extension": ".py",
   "mimetype": "text/x-python",
   "name": "python",
   "nbconvert_exporter": "python",
   "pygments_lexer": "ipython3",
   "version": "3.7.1"
  }
 },
 "nbformat": 4,
 "nbformat_minor": 2
}
